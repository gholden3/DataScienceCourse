{
 "cells": [
  {
   "cell_type": "markdown",
   "metadata": {},
   "source": [
    "In this lab we're going to do simple data exploration using Pandas. Our objective is to learn basic operations that aid in visual data exploration.\n",
    "\n",
    "<br>\n",
    "\n",
    "First, let's import our required libraries and read in the data."
   ]
  },
  {
   "cell_type": "code",
   "execution_count": 7,
   "metadata": {},
   "outputs": [],
   "source": [
    "import pandas as pd\n",
    "import matplotlib.pyplot as plt\n",
    "import numpy as np\n",
    "import os\n",
    "\n",
    "\n",
    "cwd = os.getcwd()\n",
    "\n",
    "#If on MAC, this will likely work\n",
    "datadir = '/'.join(cwd.split('/')[0:-1]) + '/data/'\n",
    "#If on window's machine, explicitly put in data dir\n",
    "\n",
    "%matplotlib inline\n",
    "\n",
    "\n",
    "#Now read in the dataset loansdata.csv\n",
    "loansData = pd.read_csv(datadir + \"loansData.csv\")"
   ]
  },
  {
   "cell_type": "markdown",
   "metadata": {},
   "source": [
    "The full schema can be found <a href=\"https://github.com/herrfz/dataanalysis/blob/master/assignment1/Assignment1.pdf\">here</a>, but let's use native Pandas methods to also explore the data. Although not specified above, this csv has row headers and the read_csv function implicitly knows this. <br>\n",
    "\n",
    "Let's take a look at the column names, in a nicely readable way:"
   ]
  },
  {
   "cell_type": "code",
   "execution_count": 8,
   "metadata": {},
   "outputs": [
    {
     "name": "stdout",
     "output_type": "stream",
     "text": [
      "Column Names Are:\n",
      "\n",
      "CustNUm\n",
      "Amount.Requested\n",
      "Amount.Funded.By.Investors\n",
      "Interest.Rate\n",
      "Loan.Length\n",
      "Loan.Purpose\n",
      "Debt.To.Income.Ratio\n",
      "State\n",
      "Home.Ownership\n",
      "Monthly.Income\n",
      "FICO.Range\n",
      "Open.CREDIT.Lines\n",
      "Revolving.CREDIT.Balance\n",
      "Inquiries.in.the.Last.6.Months\n",
      "Employment.Length\n",
      "\n",
      "Total # of Columns = 15\n"
     ]
    }
   ],
   "source": [
    "print(\"Column Names Are:\")\n",
    "print(\"\")\n",
    "\n",
    "for column_name in loansData.columns.values:\n",
    "    print(column_name)\n",
    "\n",
    "print(\"\")\n",
    "print('Total # of Columns = {}'.format(len(loansData.columns)))"
   ]
  },
  {
   "cell_type": "markdown",
   "metadata": {},
   "source": [
    "It is oftentimes helpful to take a quick glance at the first few records (when possible). This is an easy way to discover basic data flaws (i.e., all nulls, misaligned fields, etc.). We can do this in Pandas very easily."
   ]
  },
  {
   "cell_type": "code",
   "execution_count": 11,
   "metadata": {},
   "outputs": [
    {
     "data": {
      "text/html": [
       "<div>\n",
       "<style scoped>\n",
       "    .dataframe tbody tr th:only-of-type {\n",
       "        vertical-align: middle;\n",
       "    }\n",
       "\n",
       "    .dataframe tbody tr th {\n",
       "        vertical-align: top;\n",
       "    }\n",
       "\n",
       "    .dataframe thead th {\n",
       "        text-align: right;\n",
       "    }\n",
       "</style>\n",
       "<table border=\"1\" class=\"dataframe\">\n",
       "  <thead>\n",
       "    <tr style=\"text-align: right;\">\n",
       "      <th></th>\n",
       "      <th>0</th>\n",
       "      <th>1</th>\n",
       "      <th>2</th>\n",
       "      <th>3</th>\n",
       "      <th>4</th>\n",
       "    </tr>\n",
       "  </thead>\n",
       "  <tbody>\n",
       "    <tr>\n",
       "      <td>CustNUm</td>\n",
       "      <td>81174</td>\n",
       "      <td>99592</td>\n",
       "      <td>80059</td>\n",
       "      <td>15825</td>\n",
       "      <td>33182</td>\n",
       "    </tr>\n",
       "    <tr>\n",
       "      <td>Amount.Requested</td>\n",
       "      <td>20000</td>\n",
       "      <td>19200</td>\n",
       "      <td>35000</td>\n",
       "      <td>10000</td>\n",
       "      <td>12000</td>\n",
       "    </tr>\n",
       "    <tr>\n",
       "      <td>Amount.Funded.By.Investors</td>\n",
       "      <td>20000</td>\n",
       "      <td>19200</td>\n",
       "      <td>35000</td>\n",
       "      <td>9975</td>\n",
       "      <td>12000</td>\n",
       "    </tr>\n",
       "    <tr>\n",
       "      <td>Interest.Rate</td>\n",
       "      <td>8.90%</td>\n",
       "      <td>12.12%</td>\n",
       "      <td>21.98%</td>\n",
       "      <td>9.99%</td>\n",
       "      <td>11.71%</td>\n",
       "    </tr>\n",
       "    <tr>\n",
       "      <td>Loan.Length</td>\n",
       "      <td>36 months</td>\n",
       "      <td>36 months</td>\n",
       "      <td>60 months</td>\n",
       "      <td>36 months</td>\n",
       "      <td>36 months</td>\n",
       "    </tr>\n",
       "    <tr>\n",
       "      <td>Loan.Purpose</td>\n",
       "      <td>debt_consolidation</td>\n",
       "      <td>debt_consolidation</td>\n",
       "      <td>debt_consolidation</td>\n",
       "      <td>debt_consolidation</td>\n",
       "      <td>credit_card</td>\n",
       "    </tr>\n",
       "    <tr>\n",
       "      <td>Debt.To.Income.Ratio</td>\n",
       "      <td>14.90%</td>\n",
       "      <td>28.36%</td>\n",
       "      <td>23.81%</td>\n",
       "      <td>14.30%</td>\n",
       "      <td>18.78%</td>\n",
       "    </tr>\n",
       "    <tr>\n",
       "      <td>State</td>\n",
       "      <td>SC</td>\n",
       "      <td>TX</td>\n",
       "      <td>CA</td>\n",
       "      <td>KS</td>\n",
       "      <td>NJ</td>\n",
       "    </tr>\n",
       "    <tr>\n",
       "      <td>Home.Ownership</td>\n",
       "      <td>MORTGAGE</td>\n",
       "      <td>MORTGAGE</td>\n",
       "      <td>MORTGAGE</td>\n",
       "      <td>MORTGAGE</td>\n",
       "      <td>RENT</td>\n",
       "    </tr>\n",
       "    <tr>\n",
       "      <td>Monthly.Income</td>\n",
       "      <td>6541.67</td>\n",
       "      <td>4583.33</td>\n",
       "      <td>11500</td>\n",
       "      <td>3833.33</td>\n",
       "      <td>3195</td>\n",
       "    </tr>\n",
       "    <tr>\n",
       "      <td>FICO.Range</td>\n",
       "      <td>735-739</td>\n",
       "      <td>715-719</td>\n",
       "      <td>690-694</td>\n",
       "      <td>695-699</td>\n",
       "      <td>695-699</td>\n",
       "    </tr>\n",
       "    <tr>\n",
       "      <td>Open.CREDIT.Lines</td>\n",
       "      <td>14</td>\n",
       "      <td>12</td>\n",
       "      <td>14</td>\n",
       "      <td>10</td>\n",
       "      <td>11</td>\n",
       "    </tr>\n",
       "    <tr>\n",
       "      <td>Revolving.CREDIT.Balance</td>\n",
       "      <td>14272</td>\n",
       "      <td>11140</td>\n",
       "      <td>21977</td>\n",
       "      <td>9346</td>\n",
       "      <td>14469</td>\n",
       "    </tr>\n",
       "    <tr>\n",
       "      <td>Inquiries.in.the.Last.6.Months</td>\n",
       "      <td>2</td>\n",
       "      <td>1</td>\n",
       "      <td>1</td>\n",
       "      <td>0</td>\n",
       "      <td>0</td>\n",
       "    </tr>\n",
       "    <tr>\n",
       "      <td>Employment.Length</td>\n",
       "      <td>&lt; 1 year</td>\n",
       "      <td>2 years</td>\n",
       "      <td>2 years</td>\n",
       "      <td>5 years</td>\n",
       "      <td>9 years</td>\n",
       "    </tr>\n",
       "  </tbody>\n",
       "</table>\n",
       "</div>"
      ],
      "text/plain": [
       "                                                 0                   1  \\\n",
       "CustNUm                                      81174               99592   \n",
       "Amount.Requested                             20000               19200   \n",
       "Amount.Funded.By.Investors                   20000               19200   \n",
       "Interest.Rate                                8.90%              12.12%   \n",
       "Loan.Length                              36 months           36 months   \n",
       "Loan.Purpose                    debt_consolidation  debt_consolidation   \n",
       "Debt.To.Income.Ratio                        14.90%              28.36%   \n",
       "State                                           SC                  TX   \n",
       "Home.Ownership                            MORTGAGE            MORTGAGE   \n",
       "Monthly.Income                             6541.67             4583.33   \n",
       "FICO.Range                                 735-739             715-719   \n",
       "Open.CREDIT.Lines                               14                  12   \n",
       "Revolving.CREDIT.Balance                     14272               11140   \n",
       "Inquiries.in.the.Last.6.Months                   2                   1   \n",
       "Employment.Length                         < 1 year             2 years   \n",
       "\n",
       "                                                 2                   3  \\\n",
       "CustNUm                                      80059               15825   \n",
       "Amount.Requested                             35000               10000   \n",
       "Amount.Funded.By.Investors                   35000                9975   \n",
       "Interest.Rate                               21.98%               9.99%   \n",
       "Loan.Length                              60 months           36 months   \n",
       "Loan.Purpose                    debt_consolidation  debt_consolidation   \n",
       "Debt.To.Income.Ratio                        23.81%              14.30%   \n",
       "State                                           CA                  KS   \n",
       "Home.Ownership                            MORTGAGE            MORTGAGE   \n",
       "Monthly.Income                               11500             3833.33   \n",
       "FICO.Range                                 690-694             695-699   \n",
       "Open.CREDIT.Lines                               14                  10   \n",
       "Revolving.CREDIT.Balance                     21977                9346   \n",
       "Inquiries.in.the.Last.6.Months                   1                   0   \n",
       "Employment.Length                          2 years             5 years   \n",
       "\n",
       "                                          4  \n",
       "CustNUm                               33182  \n",
       "Amount.Requested                      12000  \n",
       "Amount.Funded.By.Investors            12000  \n",
       "Interest.Rate                        11.71%  \n",
       "Loan.Length                       36 months  \n",
       "Loan.Purpose                    credit_card  \n",
       "Debt.To.Income.Ratio                 18.78%  \n",
       "State                                    NJ  \n",
       "Home.Ownership                         RENT  \n",
       "Monthly.Income                         3195  \n",
       "FICO.Range                          695-699  \n",
       "Open.CREDIT.Lines                        11  \n",
       "Revolving.CREDIT.Balance              14469  \n",
       "Inquiries.in.the.Last.6.Months            0  \n",
       "Employment.Length                   9 years  "
      ]
     },
     "execution_count": 11,
     "metadata": {},
     "output_type": "execute_result"
    }
   ],
   "source": [
    "loansData.head().transpose() #We transpose it so it will fit in the display window"
   ]
  },
  {
   "cell_type": "markdown",
   "metadata": {},
   "source": [
    "Next, let's run a quick line to get summary statistics of the numeric fields."
   ]
  },
  {
   "cell_type": "code",
   "execution_count": 26,
   "metadata": {},
   "outputs": [
    {
     "data": {
      "text/html": [
       "<div>\n",
       "<style scoped>\n",
       "    .dataframe tbody tr th:only-of-type {\n",
       "        vertical-align: middle;\n",
       "    }\n",
       "\n",
       "    .dataframe tbody tr th {\n",
       "        vertical-align: top;\n",
       "    }\n",
       "\n",
       "    .dataframe thead th {\n",
       "        text-align: right;\n",
       "    }\n",
       "</style>\n",
       "<table border=\"1\" class=\"dataframe\">\n",
       "  <thead>\n",
       "    <tr style=\"text-align: right;\">\n",
       "      <th></th>\n",
       "      <th>CustNUm</th>\n",
       "      <th>Amount.Requested</th>\n",
       "      <th>Amount.Funded.By.Investors</th>\n",
       "      <th>Monthly.Income</th>\n",
       "      <th>Open.CREDIT.Lines</th>\n",
       "      <th>Revolving.CREDIT.Balance</th>\n",
       "      <th>Inquiries.in.the.Last.6.Months</th>\n",
       "      <th>Monthly.LogIncome</th>\n",
       "    </tr>\n",
       "  </thead>\n",
       "  <tbody>\n",
       "    <tr>\n",
       "      <td>count</td>\n",
       "      <td>2500.000000</td>\n",
       "      <td>2500.000000</td>\n",
       "      <td>2500.000000</td>\n",
       "      <td>2499.000000</td>\n",
       "      <td>2498.000000</td>\n",
       "      <td>2498.000000</td>\n",
       "      <td>2498.000000</td>\n",
       "      <td>2499.000000</td>\n",
       "    </tr>\n",
       "    <tr>\n",
       "      <td>mean</td>\n",
       "      <td>51631.597200</td>\n",
       "      <td>12406.500000</td>\n",
       "      <td>12001.573236</td>\n",
       "      <td>5688.931321</td>\n",
       "      <td>10.075661</td>\n",
       "      <td>15244.559648</td>\n",
       "      <td>0.906325</td>\n",
       "      <td>8.501915</td>\n",
       "    </tr>\n",
       "    <tr>\n",
       "      <td>std</td>\n",
       "      <td>30053.345508</td>\n",
       "      <td>7801.544872</td>\n",
       "      <td>7745.320754</td>\n",
       "      <td>3963.118185</td>\n",
       "      <td>4.508644</td>\n",
       "      <td>18308.549795</td>\n",
       "      <td>1.231036</td>\n",
       "      <td>0.523019</td>\n",
       "    </tr>\n",
       "    <tr>\n",
       "      <td>min</td>\n",
       "      <td>10.000000</td>\n",
       "      <td>1000.000000</td>\n",
       "      <td>-0.010000</td>\n",
       "      <td>588.500000</td>\n",
       "      <td>2.000000</td>\n",
       "      <td>0.000000</td>\n",
       "      <td>0.000000</td>\n",
       "      <td>6.377577</td>\n",
       "    </tr>\n",
       "    <tr>\n",
       "      <td>25%</td>\n",
       "      <td>26523.000000</td>\n",
       "      <td>6000.000000</td>\n",
       "      <td>6000.000000</td>\n",
       "      <td>3500.000000</td>\n",
       "      <td>7.000000</td>\n",
       "      <td>5585.750000</td>\n",
       "      <td>0.000000</td>\n",
       "      <td>8.160518</td>\n",
       "    </tr>\n",
       "    <tr>\n",
       "      <td>50%</td>\n",
       "      <td>50653.000000</td>\n",
       "      <td>10000.000000</td>\n",
       "      <td>10000.000000</td>\n",
       "      <td>5000.000000</td>\n",
       "      <td>9.000000</td>\n",
       "      <td>10962.000000</td>\n",
       "      <td>0.000000</td>\n",
       "      <td>8.517193</td>\n",
       "    </tr>\n",
       "    <tr>\n",
       "      <td>75%</td>\n",
       "      <td>77580.500000</td>\n",
       "      <td>17000.000000</td>\n",
       "      <td>16000.000000</td>\n",
       "      <td>6800.000000</td>\n",
       "      <td>13.000000</td>\n",
       "      <td>18888.750000</td>\n",
       "      <td>1.000000</td>\n",
       "      <td>8.824678</td>\n",
       "    </tr>\n",
       "    <tr>\n",
       "      <td>max</td>\n",
       "      <td>104202.000000</td>\n",
       "      <td>35000.000000</td>\n",
       "      <td>35000.000000</td>\n",
       "      <td>102750.000000</td>\n",
       "      <td>38.000000</td>\n",
       "      <td>270800.000000</td>\n",
       "      <td>9.000000</td>\n",
       "      <td>11.540054</td>\n",
       "    </tr>\n",
       "  </tbody>\n",
       "</table>\n",
       "</div>"
      ],
      "text/plain": [
       "             CustNUm  Amount.Requested  Amount.Funded.By.Investors  \\\n",
       "count    2500.000000       2500.000000                 2500.000000   \n",
       "mean    51631.597200      12406.500000                12001.573236   \n",
       "std     30053.345508       7801.544872                 7745.320754   \n",
       "min        10.000000       1000.000000                   -0.010000   \n",
       "25%     26523.000000       6000.000000                 6000.000000   \n",
       "50%     50653.000000      10000.000000                10000.000000   \n",
       "75%     77580.500000      17000.000000                16000.000000   \n",
       "max    104202.000000      35000.000000                35000.000000   \n",
       "\n",
       "       Monthly.Income  Open.CREDIT.Lines  Revolving.CREDIT.Balance  \\\n",
       "count     2499.000000        2498.000000               2498.000000   \n",
       "mean      5688.931321          10.075661              15244.559648   \n",
       "std       3963.118185           4.508644              18308.549795   \n",
       "min        588.500000           2.000000                  0.000000   \n",
       "25%       3500.000000           7.000000               5585.750000   \n",
       "50%       5000.000000           9.000000              10962.000000   \n",
       "75%       6800.000000          13.000000              18888.750000   \n",
       "max     102750.000000          38.000000             270800.000000   \n",
       "\n",
       "       Inquiries.in.the.Last.6.Months  Monthly.LogIncome  \n",
       "count                     2498.000000        2499.000000  \n",
       "mean                         0.906325           8.501915  \n",
       "std                          1.231036           0.523019  \n",
       "min                          0.000000           6.377577  \n",
       "25%                          0.000000           8.160518  \n",
       "50%                          0.000000           8.517193  \n",
       "75%                          1.000000           8.824678  \n",
       "max                          9.000000          11.540054  "
      ]
     },
     "execution_count": 26,
     "metadata": {},
     "output_type": "execute_result"
    }
   ],
   "source": [
    "loansData.describe()"
   ]
  },
  {
   "cell_type": "markdown",
   "metadata": {},
   "source": [
    "Let's now focus on a single column, 'Monthly.Income.' First things first, let's display the first five records of just this field."
   ]
  },
  {
   "cell_type": "code",
   "execution_count": 15,
   "metadata": {},
   "outputs": [
    {
     "data": {
      "text/plain": [
       "0     6541.67\n",
       "1     4583.33\n",
       "2    11500.00\n",
       "3     3833.33\n",
       "4     3195.00\n",
       "Name: Monthly.Income, dtype: float64"
      ]
     },
     "execution_count": 15,
     "metadata": {},
     "output_type": "execute_result"
    }
   ],
   "source": [
    "#Student input line here\n",
    "loansData['Monthly.Income'][0:5]"
   ]
  },
  {
   "cell_type": "markdown",
   "metadata": {},
   "source": [
    "Let's try and understand the distribution of this field. We can do this using the hist() method and matplotlib."
   ]
  },
  {
   "cell_type": "code",
   "execution_count": 19,
   "metadata": {},
   "outputs": [
    {
     "data": {
      "image/png": "[encoded data removed]",
      "text/plain": [
       "<Figure size 432x288 with 1 Axes>"
      ]
     },
     "metadata": {
      "needs_background": "light"
     },
     "output_type": "display_data"
    }
   ],
   "source": [
    "plt.figure()\n",
    "hist_inc = loansData['Monthly.Income'].hist()\n",
    "plt.title('Histogram of Monthly Income')\n",
    "plt.show()"
   ]
  },
  {
   "cell_type": "markdown",
   "metadata": {},
   "source": [
    "How would you characterize the shape of this distribution? Is there anything we can do to the income variable to make the distribution more bell curved? Let's create a new column in the dataframe called 'Monthly.LogIncome' and print a histogram of it. What might be some advantages of making such a transformation?\n",
    "<br>\n"
   ]
  },
  {
   "cell_type": "code",
   "execution_count": 22,
   "metadata": {},
   "outputs": [],
   "source": [
    "#Student: Add a new column Monthly.LogIncome to the dataset that is the log of the Monthly.Income columne\n",
    "loansData['Monthly.LogIncome'] = np.log(loansData['Monthly.Income'])"
   ]
  },
  {
   "cell_type": "code",
   "execution_count": 23,
   "metadata": {},
   "outputs": [
    {
     "data": {
      "image/png": "[encoded data removed]",
      "text/plain": [
       "<Figure size 432x288 with 1 Axes>"
      ]
     },
     "metadata": {
      "needs_background": "light"
     },
     "output_type": "display_data"
    }
   ],
   "source": [
    "#Now look at the distribution\n",
    "plt.figure()\n",
    "h = loansData['Monthly.LogIncome'].hist()\n",
    "plt.title('Histogram of Log(Monthly Income)')\n",
    "plt.show()"
   ]
  },
  {
   "cell_type": "markdown",
   "metadata": {},
   "source": [
    "Now let's answer some questions about the data.\n",
    "\n",
    "<b>Q1: What is the cardinality (i.e., # of distinct values) for 'Interest.Rate' and 'FICO.Range'</b>"
   ]
  },
  {
   "cell_type": "code",
   "execution_count": 32,
   "metadata": {},
   "outputs": [
    {
     "data": {
      "text/plain": [
       "count        2500\n",
       "unique         38\n",
       "top       670-674\n",
       "freq          171\n",
       "Name: FICO.Range, dtype: object"
      ]
     },
     "execution_count": 32,
     "metadata": {},
     "output_type": "execute_result"
    }
   ],
   "source": [
    "#Student input code here - hint, the 'describe()' method returns a useful dataframe\n",
    "loansData['Interest.Rate'].describe()\n",
    "loansData['FICO.Range'].describe()"
   ]
  },
  {
   "cell_type": "markdown",
   "metadata": {},
   "source": [
    "<b>Q2: What data type did Pandas set fo Interest.Rate? Can we create a new field which is stored as a float?</b>"
   ]
  },
  {
   "cell_type": "code",
   "execution_count": 36,
   "metadata": {},
   "outputs": [],
   "source": [
    "#Student input code here - show the field type\n",
    "loansData.dtypes\n",
    "loansData['Interest.Rate.Float'] = loansData['Interest.Rate'].str.strip('%').astype(float)"
   ]
  },
  {
   "cell_type": "markdown",
   "metadata": {},
   "source": [
    "In the cell below, create a new field 'Interest.Rate.Num' where 'Interest.Rate' is converted to a float. Hint: this can be done in one line using the .str assessor, strip and astype methods."
   ]
  },
  {
   "cell_type": "code",
   "execution_count": 13,
   "metadata": {},
   "outputs": [],
   "source": [
    "#Student input code here - convert field to a float using the '.str' assessor\n"
   ]
  },
  {
   "cell_type": "markdown",
   "metadata": {},
   "source": [
    "<b>Q3: Can we get a sense of the relationship between monthly income and interest rate? Use the scatter() function from Matplotlib.</b>"
   ]
  },
  {
   "cell_type": "code",
   "execution_count": 37,
   "metadata": {},
   "outputs": [
    {
     "data": {
      "text/plain": [
       "<matplotlib.collections.PathCollection at 0x122653c90>"
      ]
     },
     "execution_count": 37,
     "metadata": {},
     "output_type": "execute_result"
    },
    {
     "data": {
      "image/png": "[encoded data removed]",
      "text/plain": [
       "<Figure size 432x288 with 1 Axes>"
      ]
     },
     "metadata": {
      "needs_background": "light"
     },
     "output_type": "display_data"
    }
   ],
   "source": [
    "#Student input line here\n",
    "plt.scatter(loansData['Monthly.LogIncome'], loansData['Interest.Rate.Float'])"
   ]
  },
  {
   "cell_type": "markdown",
   "metadata": {},
   "source": [
    "Given the skewed distribution of Income, is this chart visually helpful? Let's try the Log of income instead."
   ]
  },
  {
   "cell_type": "code",
   "execution_count": 10,
   "metadata": {},
   "outputs": [],
   "source": [
    "#Student input code here\n"
   ]
  },
  {
   "cell_type": "markdown",
   "metadata": {},
   "source": [
    "<b>Q4: What is the average interest rate for each FICO range?</b> <br>\n",
    "Hint: use the groupby() method in Pandas."
   ]
  },
  {
   "cell_type": "code",
   "execution_count": 44,
   "metadata": {},
   "outputs": [],
   "source": [
    "#Student input code here\n",
    "fico_grp = loansData[['Interest.Rate.Float', 'FICO.Range']].groupby('FICO.Range').mean()"
   ]
  },
  {
   "cell_type": "code",
   "execution_count": 45,
   "metadata": {},
   "outputs": [
    {
     "data": {
      "text/html": [
       "<div>\n",
       "<style scoped>\n",
       "    .dataframe tbody tr th:only-of-type {\n",
       "        vertical-align: middle;\n",
       "    }\n",
       "\n",
       "    .dataframe tbody tr th {\n",
       "        vertical-align: top;\n",
       "    }\n",
       "\n",
       "    .dataframe thead th {\n",
       "        text-align: right;\n",
       "    }\n",
       "</style>\n",
       "<table border=\"1\" class=\"dataframe\">\n",
       "  <thead>\n",
       "    <tr style=\"text-align: right;\">\n",
       "      <th></th>\n",
       "      <th>Interest.Rate.Float</th>\n",
       "    </tr>\n",
       "    <tr>\n",
       "      <th>FICO.Range</th>\n",
       "      <th></th>\n",
       "    </tr>\n",
       "  </thead>\n",
       "  <tbody>\n",
       "    <tr>\n",
       "      <td>640-644</td>\n",
       "      <td>15.212000</td>\n",
       "    </tr>\n",
       "    <tr>\n",
       "      <td>645-649</td>\n",
       "      <td>14.883333</td>\n",
       "    </tr>\n",
       "    <tr>\n",
       "      <td>650-654</td>\n",
       "      <td>15.130000</td>\n",
       "    </tr>\n",
       "    <tr>\n",
       "      <td>655-659</td>\n",
       "      <td>14.930000</td>\n",
       "    </tr>\n",
       "    <tr>\n",
       "      <td>660-664</td>\n",
       "      <td>18.492480</td>\n",
       "    </tr>\n",
       "    <tr>\n",
       "      <td>665-669</td>\n",
       "      <td>17.448069</td>\n",
       "    </tr>\n",
       "    <tr>\n",
       "      <td>670-674</td>\n",
       "      <td>16.248480</td>\n",
       "    </tr>\n",
       "    <tr>\n",
       "      <td>675-679</td>\n",
       "      <td>15.854699</td>\n",
       "    </tr>\n",
       "    <tr>\n",
       "      <td>680-684</td>\n",
       "      <td>15.126688</td>\n",
       "    </tr>\n",
       "    <tr>\n",
       "      <td>685-689</td>\n",
       "      <td>14.654855</td>\n",
       "    </tr>\n",
       "    <tr>\n",
       "      <td>690-694</td>\n",
       "      <td>14.732071</td>\n",
       "    </tr>\n",
       "    <tr>\n",
       "      <td>695-699</td>\n",
       "      <td>14.146863</td>\n",
       "    </tr>\n",
       "    <tr>\n",
       "      <td>700-704</td>\n",
       "      <td>13.356870</td>\n",
       "    </tr>\n",
       "    <tr>\n",
       "      <td>705-709</td>\n",
       "      <td>12.659851</td>\n",
       "    </tr>\n",
       "    <tr>\n",
       "      <td>710-714</td>\n",
       "      <td>12.433125</td>\n",
       "    </tr>\n",
       "    <tr>\n",
       "      <td>715-719</td>\n",
       "      <td>11.181935</td>\n",
       "    </tr>\n",
       "    <tr>\n",
       "      <td>720-724</td>\n",
       "      <td>11.035789</td>\n",
       "    </tr>\n",
       "    <tr>\n",
       "      <td>725-729</td>\n",
       "      <td>10.652979</td>\n",
       "    </tr>\n",
       "    <tr>\n",
       "      <td>730-734</td>\n",
       "      <td>9.956170</td>\n",
       "    </tr>\n",
       "    <tr>\n",
       "      <td>735-739</td>\n",
       "      <td>9.623538</td>\n",
       "    </tr>\n",
       "    <tr>\n",
       "      <td>740-744</td>\n",
       "      <td>9.592264</td>\n",
       "    </tr>\n",
       "    <tr>\n",
       "      <td>745-749</td>\n",
       "      <td>9.901667</td>\n",
       "    </tr>\n",
       "    <tr>\n",
       "      <td>750-754</td>\n",
       "      <td>8.467705</td>\n",
       "    </tr>\n",
       "    <tr>\n",
       "      <td>755-759</td>\n",
       "      <td>8.996087</td>\n",
       "    </tr>\n",
       "    <tr>\n",
       "      <td>760-764</td>\n",
       "      <td>8.627609</td>\n",
       "    </tr>\n",
       "    <tr>\n",
       "      <td>765-769</td>\n",
       "      <td>7.783333</td>\n",
       "    </tr>\n",
       "    <tr>\n",
       "      <td>770-774</td>\n",
       "      <td>6.752941</td>\n",
       "    </tr>\n",
       "    <tr>\n",
       "      <td>775-779</td>\n",
       "      <td>8.744091</td>\n",
       "    </tr>\n",
       "    <tr>\n",
       "      <td>780-784</td>\n",
       "      <td>7.589286</td>\n",
       "    </tr>\n",
       "    <tr>\n",
       "      <td>785-789</td>\n",
       "      <td>8.497895</td>\n",
       "    </tr>\n",
       "    <tr>\n",
       "      <td>790-794</td>\n",
       "      <td>7.560500</td>\n",
       "    </tr>\n",
       "    <tr>\n",
       "      <td>795-799</td>\n",
       "      <td>8.391538</td>\n",
       "    </tr>\n",
       "    <tr>\n",
       "      <td>800-804</td>\n",
       "      <td>7.638462</td>\n",
       "    </tr>\n",
       "    <tr>\n",
       "      <td>805-809</td>\n",
       "      <td>7.426364</td>\n",
       "    </tr>\n",
       "    <tr>\n",
       "      <td>810-814</td>\n",
       "      <td>8.293750</td>\n",
       "    </tr>\n",
       "    <tr>\n",
       "      <td>815-819</td>\n",
       "      <td>6.925000</td>\n",
       "    </tr>\n",
       "    <tr>\n",
       "      <td>820-824</td>\n",
       "      <td>7.900000</td>\n",
       "    </tr>\n",
       "    <tr>\n",
       "      <td>830-834</td>\n",
       "      <td>7.620000</td>\n",
       "    </tr>\n",
       "  </tbody>\n",
       "</table>\n",
       "</div>"
      ],
      "text/plain": [
       "            Interest.Rate.Float\n",
       "FICO.Range                     \n",
       "640-644               15.212000\n",
       "645-649               14.883333\n",
       "650-654               15.130000\n",
       "655-659               14.930000\n",
       "660-664               18.492480\n",
       "665-669               17.448069\n",
       "670-674               16.248480\n",
       "675-679               15.854699\n",
       "680-684               15.126688\n",
       "685-689               14.654855\n",
       "690-694               14.732071\n",
       "695-699               14.146863\n",
       "700-704               13.356870\n",
       "705-709               12.659851\n",
       "710-714               12.433125\n",
       "715-719               11.181935\n",
       "720-724               11.035789\n",
       "725-729               10.652979\n",
       "730-734                9.956170\n",
       "735-739                9.623538\n",
       "740-744                9.592264\n",
       "745-749                9.901667\n",
       "750-754                8.467705\n",
       "755-759                8.996087\n",
       "760-764                8.627609\n",
       "765-769                7.783333\n",
       "770-774                6.752941\n",
       "775-779                8.744091\n",
       "780-784                7.589286\n",
       "785-789                8.497895\n",
       "790-794                7.560500\n",
       "795-799                8.391538\n",
       "800-804                7.638462\n",
       "805-809                7.426364\n",
       "810-814                8.293750\n",
       "815-819                6.925000\n",
       "820-824                7.900000\n",
       "830-834                7.620000"
      ]
     },
     "execution_count": 45,
     "metadata": {},
     "output_type": "execute_result"
    }
   ],
   "source": [
    "fico_grp"
   ]
  },
  {
   "cell_type": "code",
   "execution_count": null,
   "metadata": {
    "collapsed": true
   },
   "outputs": [],
   "source": []
  }
 ],
 "metadata": {
  "kernelspec": {
   "display_name": "Python 3",
   "language": "python",
   "name": "python3"
  },
  "language_info": {
   "codemirror_mode": {
    "name": "ipython",
    "version": 3
   },
   "file_extension": ".py",
   "mimetype": "text/x-python",
   "name": "python",
   "nbconvert_exporter": "python",
   "pygments_lexer": "ipython3",
   "version": "3.7.4"
  }
 },
 "nbformat": 4,
 "nbformat_minor": 1
}
