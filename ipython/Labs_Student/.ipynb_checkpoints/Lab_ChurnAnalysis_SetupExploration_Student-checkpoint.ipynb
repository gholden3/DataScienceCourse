{
 "cells": [
  {
   "cell_type": "markdown",
   "metadata": {},
   "source": [
    "This lab notebook coincides with CaseStudy_Churn_Analysis_2016 iPython notebook. \n",
    "\n",
    "Step 1: Open the notebook and read the \"Introduction and Motivation\" Section.\n",
    "\n",
    "<b>Question 1:</b> Given that customer churn is an issue across many industries, how might problem abstraction help a data scientist solve the problem at a given company? In otherwords, can one solve it in a Telecom job and be successful solving it while working for a large gym? What parts of the problem are common across domains? Which parts require domain knowledge of the industry?<br>\n",
    "<b>Answer 1:</b> \n",
    "Problem abstraction can be useful and convenient as a data scientist because you dont have to reinvent the wheel for analyses and modeling. Churn analysis models can be similar across industries. \n",
    "Certain factors about what's going on in the world may apply. For example, if there is a recession, people may cancel luxury subscriptions like a makeup subscription or fun socks. People may cancel a tv or movie subscription and keep their internet and similarly, cancel their personal training but keep their basic gym membership. \n",
    "Analyzing competition could also be useful in both applications. If there are a lot of competitors, or a single competitor is growing in popularity, the data scientist may predict their customers may leave. \n",
    "Engagement could be a good predictor of churn across multiple domains. \n",
    "The things that are different may be more specific to domain - what predictors in the observations are correlated with someone cancelling a membership? For example, at a gym someone may \n",
    "\n",
    "\n",
    "<b>Question 2:</b> How should one define churn in a way that can be explicitly and unambiguously measured for each of the following industries/companies: Credit Card, Amazon, a big Gym. <br>\n",
    "<b>Answer 2:</b> credit card company: someone cancels a credit card, or uses it less. is spend reduced by 50% month over month? more interesting than predicting churn is how valuable is it to spend money keeping them? amazon: similar for drop in usage. \n",
    "\n",
    "<b>Question 3:</b> Think about three features that may be useful for predicting churn for each of the following industries: Credit Card, Amazon, a big Gym. Do these features have anything in common?<br>\n",
    "<b>Answer3:</b> credit card: total spend month over month for one person. Another predictor could be competitors. \n",
    "\n",
    "<b>Question 4:</b> Once we have a set of factors as well as a supervised learning model, how might we use this model in a predictive and also in an explanatory way? Do we need a supervised learning model for the explanatory use case?<br>\n",
    "<b>Answer 4:</b> The supervised learning model can predict future values given values for the factors you have factored into your model. For example, if you use a regression model to predict the number of people walking past you on the street, and you use time of day as a factor, you can predict the number of people that will be walking past you at any given time. You can use your findings to form explanations of the patterns you are seeing. For example, you may suspect that more people will walk by in the middle of the day if you are in a toursity area of new york. However, if you are at a fish market, you may suspect more people to walk by in the early hours of the morning. Weather may have an effect in some locations and not others. People walking by on their way to work may not be affected by weather, but people walking through a park may be. You still use a supervised learning model for the explanatory case. In order to understand relationships between predictors and outcomes, you still need to do the modeling to quantify what that relationship is. It may not be what you first think when you plot the data. \n",
    "\n",
    "Step 2: Read the Problem Formulation and Data Exploration (up to Descriptive Statistics) sections. \n",
    "\n",
    "<b>Question 5:</b>For building a churn data set, what are two different ways we can sample both churners and non-churners into a training set? What may be the advantages/disadvantages of each?<br>\n",
    "<b>Answer 5:</b>The notebook mentions two ways - one is to sample all the data now. Then, later observe how this affects whether the cutomer churns. This can be expensive and time consuming. Another way could be to go back into the past and pick a \"now\" to sample at and pick a later time to check the churn. This still samples the variables at one point in time and checks the effect of churn at a later time and has the advantage that you can do all of your analysis now and don't have to wait for time to pass. A downfall of this is you lose a bit of accuracy. Depending on how the times are changing, predictors and relationships you find from past data may be a bit out of date. For example, maybe people dont talk on their phones anymore because the governemnt passed a new law that records everyones phone conversations. So minutes spend on the phone could not be a strong current predictor where in the past it could have been. \n",
    "\n",
    "Step 3: Read from the Descriptive Statistics up until Predictive Modeling\n",
    "\n",
    "<b>Questions:</b>\n",
    "<ul>\n",
    "<li>What level of information redundency exists amongst the variables? How would you explain this?</li><br>\n",
    "    As the notebook notes, incalls and outcalls are highly correlated, suggesting that they may be showing us some of the same data. this makes sense to me because if someone is highly active on their account, usually incoming calls will be close to the number of outgoing calls. There are exceptions, in case someeone is a telemarketer or something, but this makes sense for the average. Months and eqpdays are also correlated, which makes sense. one si the number of months in service and the other is number of days the customer has had their equiptment. i'm not sure what kind of telecom service this data is from, but this also makes sense to me. Usually with something like a tv or cell phone plan, you are going to have your equimtment right away when you start your service and keep it the whole time. \n",
    "<li>Based on the mutual information between features and churn, how would explain the most important churn factors to a colleague?</li> <br>\n",
    "    So I'm not positive what is represented by revenue, since the description just says mean monthly revenue in dollars. I'm assuming this is showing how much the telecom company is making off the person. This is highly inversely correlated to churn. This makes sense because it implies that whatever plan the customer has, they are giving too much money to the company for the amount of service they are receiving. It makes sense that customers who feel they are overpaying will churn. Eqpdays and months are also correlated, suggesting that the longer a customer is with the company, the more likely they are to churn. This seems true for most business models but doesn't tell us much. It would be more interesting to break down likelihood of churn by number of months or dqpdays and see the trend over time. \n",
    "</ul>"
   ]
  },
  {
   "cell_type": "code",
   "execution_count": null,
   "metadata": {
    "collapsed": true
   },
   "outputs": [],
   "source": []
  }
 ],
 "metadata": {
  "kernelspec": {
   "display_name": "Python 3",
   "language": "python",
   "name": "python3"
  },
  "language_info": {
   "codemirror_mode": {
    "name": "ipython",
    "version": 3
   },
   "file_extension": ".py",
   "mimetype": "text/x-python",
   "name": "python",
   "nbconvert_exporter": "python",
   "pygments_lexer": "ipython3",
   "version": "3.7.4"
  }
 },
 "nbformat": 4,
 "nbformat_minor": 1
}
